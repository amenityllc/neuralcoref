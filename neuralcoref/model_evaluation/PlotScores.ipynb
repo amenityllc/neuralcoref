{
 "cells": [
  {
   "cell_type": "code",
   "execution_count": 17,
   "metadata": {
    "pycharm": {
     "is_executing": false
    }
   },
   "outputs": [],
   "source": [
    "import pandas as pd\n",
    "import json"
   ]
  },
  {
   "cell_type": "code",
   "execution_count": 18,
   "metadata": {
    "pycharm": {
     "name": "#%%\n"
    }
   },
   "outputs": [],
   "source": [
    "with open('runs/scores.txt') as f:\n",
    "    records = [json.loads(line) for line in f]"
   ]
  },
  {
   "cell_type": "code",
   "execution_count": 19,
   "metadata": {},
   "outputs": [],
   "source": [
    "df_scores = pd.DataFrame.from_records(records)"
   ]
  },
  {
   "cell_type": "code",
   "execution_count": 23,
   "metadata": {},
   "outputs": [
    {
     "data": {
      "text/html": [
       "<div>\n",
       "<style scoped>\n",
       "    .dataframe tbody tr th:only-of-type {\n",
       "        vertical-align: middle;\n",
       "    }\n",
       "\n",
       "    .dataframe tbody tr th {\n",
       "        vertical-align: top;\n",
       "    }\n",
       "\n",
       "    .dataframe thead th {\n",
       "        text-align: right;\n",
       "    }\n",
       "</style>\n",
       "<table border=\"1\" class=\"dataframe\">\n",
       "  <thead>\n",
       "    <tr style=\"text-align: right;\">\n",
       "      <th></th>\n",
       "      <th>dataset</th>\n",
       "      <th>time</th>\n",
       "      <th>muc_precision</th>\n",
       "      <th>muc_recall</th>\n",
       "      <th>muc_f1</th>\n",
       "      <th>bcub_precision</th>\n",
       "      <th>bcub_recall</th>\n",
       "      <th>bcub_f1</th>\n",
       "      <th>ceafe_precision</th>\n",
       "      <th>ceafe_recall</th>\n",
       "      <th>ceafe_f1</th>\n",
       "      <th>F1_conll</th>\n",
       "      <th>timestamp</th>\n",
       "    </tr>\n",
       "  </thead>\n",
       "  <tbody>\n",
       "    <tr>\n",
       "      <th>0</th>\n",
       "      <td>minidev</td>\n",
       "      <td>None</td>\n",
       "      <td>0.102459</td>\n",
       "      <td>0.781250</td>\n",
       "      <td>0.181159</td>\n",
       "      <td>0.011157</td>\n",
       "      <td>0.806000</td>\n",
       "      <td>0.022010</td>\n",
       "      <td>0.060197</td>\n",
       "      <td>0.046820</td>\n",
       "      <td>0.052673</td>\n",
       "      <td>0.085281</td>\n",
       "      <td>20200121-160624</td>\n",
       "    </tr>\n",
       "    <tr>\n",
       "      <th>1</th>\n",
       "      <td>dev</td>\n",
       "      <td>None</td>\n",
       "      <td>0.137973</td>\n",
       "      <td>0.458248</td>\n",
       "      <td>0.212089</td>\n",
       "      <td>0.071093</td>\n",
       "      <td>0.408034</td>\n",
       "      <td>0.121088</td>\n",
       "      <td>0.087944</td>\n",
       "      <td>0.212451</td>\n",
       "      <td>0.124395</td>\n",
       "      <td>0.152524</td>\n",
       "      <td>20200121-164230</td>\n",
       "    </tr>\n",
       "  </tbody>\n",
       "</table>\n",
       "</div>"
      ],
      "text/plain": [
       "   dataset  time  muc_precision  muc_recall    muc_f1  bcub_precision  \\\n",
       "0  minidev  None       0.102459    0.781250  0.181159        0.011157   \n",
       "1      dev  None       0.137973    0.458248  0.212089        0.071093   \n",
       "\n",
       "   bcub_recall   bcub_f1  ceafe_precision  ceafe_recall  ceafe_f1  F1_conll  \\\n",
       "0     0.806000  0.022010         0.060197      0.046820  0.052673  0.085281   \n",
       "1     0.408034  0.121088         0.087944      0.212451  0.124395  0.152524   \n",
       "\n",
       "         timestamp  \n",
       "0  20200121-160624  \n",
       "1  20200121-164230  "
      ]
     },
     "execution_count": 23,
     "metadata": {},
     "output_type": "execute_result"
    }
   ],
   "source": [
    "df_scores.drop('test_file', axis=1)"
   ]
  },
  {
   "cell_type": "code",
   "execution_count": null,
   "metadata": {},
   "outputs": [],
   "source": []
  }
 ],
 "metadata": {
  "kernelspec": {
   "display_name": "Python 3",
   "language": "python",
   "name": "python3"
  },
  "language_info": {
   "codemirror_mode": {
    "name": "ipython",
    "version": 3
   },
   "file_extension": ".py",
   "mimetype": "text/x-python",
   "name": "python",
   "nbconvert_exporter": "python",
   "pygments_lexer": "ipython3",
   "version": "3.7.5"
  },
  "pycharm": {
   "stem_cell": {
    "cell_type": "raw",
    "metadata": {
     "collapsed": false
    },
    "source": []
   }
  }
 },
 "nbformat": 4,
 "nbformat_minor": 1
}
